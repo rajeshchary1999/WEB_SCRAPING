{
 "cells": [
  {
   "cell_type": "code",
   "execution_count": 1,
   "id": "b24ca10e",
   "metadata": {},
   "outputs": [
    {
     "name": "stdout",
     "output_type": "stream",
     "text": [
      "Enter city name : hyderabad\n",
      " Temperature (in kelvin unit) = 296.38\n",
      " description = haze\n"
     ]
    }
   ],
   "source": [
    "# python_test.py\n",
    "import requests\n",
    "\n",
    "api_key = \"AAAAPPPPIIII_____KKKKEEEEYYYY\"  # Enter the API from the OpenWeatherMap website\n",
    "base_url = \"http://api.openweathermap.org/data/2.5/weather?\"\n",
    "\n",
    "city_name = input(\"Enter city name : \")\n",
    "complete_url = base_url + \"appid=\" + 'd850f7f52bf19300a9eb4b0aa6b80f0d' + \"&q=\" + city_name  \n",
    "response = requests.get(complete_url)\n",
    "x = response.json()\n",
    "\n",
    "if x[\"cod\"] != \"404\":\n",
    "    y = x[\"main\"]\n",
    "\n",
    "    current_temperature = y[\"temp\"]\n",
    "    z = x[\"weather\"]\n",
    "\n",
    "    weather_description = z[0][\"description\"]\n",
    "\n",
    "    print(\" Temperature (in kelvin unit) = \" +\n",
    "                    str(current_temperature) +\n",
    "          \"\\n description = \" +\n",
    "                    str(weather_description))\n",
    "\n",
    "else:\n",
    "    print(\" City Not Found \")"
   ]
  },
  {
   "cell_type": "code",
   "execution_count": 2,
   "id": "3bb866b9",
   "metadata": {},
   "outputs": [
    {
     "name": "stdout",
     "output_type": "stream",
     "text": [
      "Enter city name : bangalore\n",
      " Temperature (in kelvin unit) = 292.95\n",
      " description = scattered clouds\n"
     ]
    }
   ],
   "source": [
    "# python_test.py\n",
    "import requests\n",
    "\n",
    "api_key = \"AAAAPPPPIIII_____KKKKEEEEYYYY\"  # Enter the API key you got from the OpenWeatherMap website\n",
    "base_url = \"http://api.openweathermap.org/data/2.5/weather?\"\n",
    "\n",
    "city_name = input(\"Enter city name : \")\n",
    "complete_url = base_url + \"appid=\" + 'd850f7f52bf19300a9eb4b0aa6b80f0d' + \"&q=\" + city_name  # This is to complete the base_url, you can also do this manually to checkout other weather data available\n",
    "response = requests.get(complete_url)\n",
    "x = response.json()\n",
    "\n",
    "if x[\"cod\"] != \"404\":\n",
    "    y = x[\"main\"]\n",
    "\n",
    "    current_temperature = y[\"temp\"]\n",
    "    z = x[\"weather\"]\n",
    "\n",
    "    weather_description = z[0][\"description\"]\n",
    "\n",
    "    print(\" Temperature (in kelvin unit) = \" +\n",
    "                    str(current_temperature) +\n",
    "          \"\\n description = \" +\n",
    "                    str(weather_description))\n",
    "\n",
    "else:\n",
    "    print(\" City Not Found \")"
   ]
  },
  {
   "cell_type": "code",
   "execution_count": 3,
   "id": "5998b1f9",
   "metadata": {},
   "outputs": [
    {
     "name": "stdout",
     "output_type": "stream",
     "text": [
      "Enter city name : mumbai\n",
      " Temperature (in kelvin unit) = 301.14\n",
      " description = smoke\n"
     ]
    }
   ],
   "source": [
    "# python_test.py\n",
    "import requests\n",
    "\n",
    "api_key = \"AAAAPPPPIIII_____KKKKEEEEYYYY\"  # Enter the API key you got from the OpenWeatherMap website\n",
    "base_url = \"http://api.openweathermap.org/data/2.5/weather?\"\n",
    "\n",
    "city_name = input(\"Enter city name : \")\n",
    "complete_url = base_url + \"appid=\" + 'd850f7f52bf19300a9eb4b0aa6b80f0d' + \"&q=\" + city_name  # This is to complete the base_url, you can also do this manually to checkout other weather data available\n",
    "response = requests.get(complete_url)\n",
    "x = response.json()\n",
    "\n",
    "if x[\"cod\"] != \"404\":\n",
    "    y = x[\"main\"]\n",
    "\n",
    "    current_temperature = y[\"temp\"]\n",
    "    z = x[\"weather\"]\n",
    "\n",
    "    weather_description = z[0][\"description\"]\n",
    "\n",
    "    print(\" Temperature (in kelvin unit) = \" +\n",
    "                    str(current_temperature) +\n",
    "          \"\\n description = \" +\n",
    "                    str(weather_description))\n",
    "\n",
    "else:\n",
    "    print(\" City Not Found \")"
   ]
  },
  {
   "cell_type": "code",
   "execution_count": null,
   "id": "bb51ad0e",
   "metadata": {},
   "outputs": [],
   "source": []
  }
 ],
 "metadata": {
  "kernelspec": {
   "display_name": "Python 3 (ipykernel)",
   "language": "python",
   "name": "python3"
  },
  "language_info": {
   "codemirror_mode": {
    "name": "ipython",
    "version": 3
   },
   "file_extension": ".py",
   "mimetype": "text/x-python",
   "name": "python",
   "nbconvert_exporter": "python",
   "pygments_lexer": "ipython3",
   "version": "3.9.12"
  }
 },
 "nbformat": 4,
 "nbformat_minor": 5
}
