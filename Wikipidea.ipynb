{
 "cells": [
  {
   "cell_type": "code",
   "execution_count": 1,
   "id": "1687015e",
   "metadata": {},
   "outputs": [
    {
     "name": "stdout",
     "output_type": "stream",
     "text": [
      "Please enter the Wikipedia page you wish to scrape from\n",
      "Nonehttps://en.wikipedia.org/wiki/URL\n",
      "Link: #cite_ref-7\n",
      "Link: #cite_note-FOOTNOTERFC_23961998-5\n",
      "Link: #cite_note-FOOTNOTEJoint_W3C/IETF_URI_Planning_Interest_Group2002-4\n",
      "Link: #cite_note-6\n",
      "Link: #cite_ref-16\n",
      "Link: /wiki/RFC_(identifier)\n",
      "Link: https://datatracker.ietf.org/doc/html/rfc2717\n",
      "Link: https://datatracker.ietf.org/doc/html/rfc7595\n",
      "Link: #cite_note-FOOTNOTEIETF2015-15\n",
      "Link: #cite_ref-19\n",
      "Link: #cite_note-FOOTNOTELawrence2014-18\n",
      "Link: #cite_ref-22\n",
      "Link: /wiki/RFC_(identifier)\n",
      "Link: https://datatracker.ietf.org/doc/html/rfc1866\n",
      "Link: https://datatracker.ietf.org/doc/html/rfc2854\n",
      "Link: #cite_note-FOOTNOTERFC_18661995§8.2.1-21\n"
     ]
    }
   ],
   "source": [
    "import requests\n",
    "from bs4 import BeautifulSoup\n",
    "\n",
    "session = requests.Session()\n",
    "selectWikiPage = input(print(\"Please enter the Wikipedia page you wish to scrape from\"))\n",
    "\n",
    "if \"wikipedia\" in selectWikiPage:\n",
    "    html = session.post(selectWikiPage)\n",
    "    bsObj = BeautifulSoup(html.text, \"html.parser\")\n",
    "    findReferences = bsObj.find('ol', {'class': 'references'})\n",
    "    href = BeautifulSoup(str(findReferences), \"html.parser\")\n",
    "    links = [a[\"href\"] for a in href.find_all(\"a\", href=True)]\n",
    "    for link in links:\n",
    "        print(\"Link: \" + link)\n",
    "else:\n",
    "    print(\"Error: Please enter a valid Wikipedia URL\")"
   ]
  },
  {
   "cell_type": "code",
   "execution_count": null,
   "id": "d1c59cde",
   "metadata": {},
   "outputs": [],
   "source": []
  }
 ],
 "metadata": {
  "kernelspec": {
   "display_name": "Python 3 (ipykernel)",
   "language": "python",
   "name": "python3"
  },
  "language_info": {
   "codemirror_mode": {
    "name": "ipython",
    "version": 3
   },
   "file_extension": ".py",
   "mimetype": "text/x-python",
   "name": "python",
   "nbconvert_exporter": "python",
   "pygments_lexer": "ipython3",
   "version": "3.9.12"
  }
 },
 "nbformat": 4,
 "nbformat_minor": 5
}
